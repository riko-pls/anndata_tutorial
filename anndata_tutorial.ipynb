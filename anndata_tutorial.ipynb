{
 "cells": [
  {
   "cell_type": "code",
   "execution_count": null,
   "id": "29c72ebe",
   "metadata": {},
   "outputs": [
    {
     "name": "stdout",
     "output_type": "stream",
     "text": [
      "AnnData object with n_obs × n_vars = 100 × 2000\n"
     ]
    }
   ],
   "source": [
    "# NumPy：数値計算ライブラリ（ここではランダムな数値生成に使用）\n",
    "import numpy as np\n",
    "\n",
    "# pandas：表形式データ（DataFrame）を扱うライブラリ（後で.obsや.varに使う）\n",
    "import pandas as pd\n",
    "\n",
    "# NumPy：数値計算ライブラリ（ここではランダムな数値生成に使用）\n",
    "import numpy as np\n",
    "\n",
    "# pandas：表形式データ（DataFrame）を扱うライブラリ（後で.obsや.varに使う）\n",
    "import pandas as pd\n",
    "\n",
    "# csr_matrix：疎行列（ゼロが多い行列）を効率よく扱うための形式\n",
    "from scipy.sparse import csr_matrix\n",
    "\n",
    "# anndata：AnnDataオブジェクトを扱うメインライブラリ\n",
    "import anndata as ad\n",
    "\n",
    "# 100細胞 × 2000遺伝子の発現データをランダムに生成（ポアソン分布に従う）\n",
    "# → 値の大部分が0なので、疎行列として保存してメモリを節約\n",
    "counts = csr_matrix(np.random.poisson(1, size=(100, 2000)), dtype=np.float32)\n",
    "\n",
    "# AnnDataオブジェクトの作成（X に遺伝子発現行列をセット）\n",
    "adata = ad.AnnData(X=counts)\n",
    "\n",
    "# 結果表示：細胞数（obs）と遺伝子数（vars）の形を確認\n",
    "print(adata)"
   ]
  },
  {
   "cell_type": "code",
   "execution_count": 6,
   "id": "cbe7850d",
   "metadata": {},
   "outputs": [
    {
     "name": "stdout",
     "output_type": "stream",
     "text": [
      "Index(['Cell_0', 'Cell_1', 'Cell_2', 'Cell_3', 'Cell_4', 'Cell_5', 'Cell_6',\n",
      "       'Cell_7', 'Cell_8', 'Cell_9'],\n",
      "      dtype='object')\n"
     ]
    }
   ],
   "source": [
    "# 発現行列（カウントデータ）の本体を表示\n",
    "# → 今はcsr_matrix（スパース行列）形式で保存されている\n",
    "adata.X\n",
    "# 各細胞にわかりやすい名前（Cell_0, Cell_1, ..., Cell_99）をつける\n",
    "adata.obs_names = [f\"Cell_{i:d}\" for i in range(adata.n_obs)]\n",
    "\n",
    "# 各遺伝子にもわかりやすい名前（Gene_0, Gene_1, ..., Gene_1999）をつける\n",
    "adata.var_names = [f\"Gene_{i:d}\" for i in range(adata.n_vars)]\n",
    "\n",
    "# 細胞名の先頭10個を確認\n",
    "print(adata.obs_names[:10])"
   ]
  },
  {
   "cell_type": "code",
   "execution_count": 7,
   "id": "a337ec50",
   "metadata": {},
   "outputs": [
    {
     "data": {
      "text/html": [
       "<div>\n",
       "<style scoped>\n",
       "    .dataframe tbody tr th:only-of-type {\n",
       "        vertical-align: middle;\n",
       "    }\n",
       "\n",
       "    .dataframe tbody tr th {\n",
       "        vertical-align: top;\n",
       "    }\n",
       "\n",
       "    .dataframe thead th {\n",
       "        text-align: right;\n",
       "    }\n",
       "</style>\n",
       "<table border=\"1\" class=\"dataframe\">\n",
       "  <thead>\n",
       "    <tr style=\"text-align: right;\">\n",
       "      <th></th>\n",
       "      <th>cell_type</th>\n",
       "    </tr>\n",
       "  </thead>\n",
       "  <tbody>\n",
       "    <tr>\n",
       "      <th>Cell_0</th>\n",
       "      <td>B</td>\n",
       "    </tr>\n",
       "    <tr>\n",
       "      <th>Cell_1</th>\n",
       "      <td>B</td>\n",
       "    </tr>\n",
       "    <tr>\n",
       "      <th>Cell_2</th>\n",
       "      <td>T</td>\n",
       "    </tr>\n",
       "    <tr>\n",
       "      <th>Cell_3</th>\n",
       "      <td>B</td>\n",
       "    </tr>\n",
       "    <tr>\n",
       "      <th>Cell_4</th>\n",
       "      <td>B</td>\n",
       "    </tr>\n",
       "  </tbody>\n",
       "</table>\n",
       "</div>"
      ],
      "text/plain": [
       "       cell_type\n",
       "Cell_0         B\n",
       "Cell_1         B\n",
       "Cell_2         T\n",
       "Cell_3         B\n",
       "Cell_4         B"
      ]
     },
     "execution_count": 7,
     "metadata": {},
     "output_type": "execute_result"
    }
   ],
   "source": [
    "# 各細胞（観測行）に細胞タイプのラベルを追加する\n",
    "# \"T細胞\" または \"B細胞\" のどちらかをランダムに割り当てる\n",
    "# → 結果は adata.obs[\"cell_type\"] に保存される（pandasのDataFrame列として扱える）\n",
    "adata.obs[\"cell_type\"] = np.random.choice([\"T\", \"B\"], size=adata.n_obs)\n",
    "\n",
    "# 各遺伝子（列）に名前（シンボル）を付ける\n",
    "# 例：gene0, gene1, ..., gene1999 のような名前が gene_symbols に入る\n",
    "# → adata.var[\"gene_symbols\"] に格納（遺伝子のメタデータ）\n",
    "adata.var[\"gene_symbols\"] = [f\"gene{i}\" for i in range(adata.n_vars)]\n",
    "\n",
    "# 細胞情報の確認（先頭5行を表示）\n",
    "# → DataFrame形式で .obs に入っている情報を見ることができる\n",
    "adata.obs.head()"
   ]
  },
  {
   "cell_type": "code",
   "execution_count": 8,
   "id": "865e4dd2",
   "metadata": {},
   "outputs": [
    {
     "ename": "NotImplementedError",
     "evalue": "subtracting a nonzero scalar from a sparse array is not supported",
     "output_type": "error",
     "traceback": [
      "\u001b[0;31m---------------------------------------------------------------------------\u001b[0m",
      "\u001b[0;31mNotImplementedError\u001b[0m                       Traceback (most recent call last)",
      "Cell \u001b[0;32mIn[8], line 2\u001b[0m\n\u001b[1;32m      1\u001b[0m \u001b[38;5;66;03m# 正規化（Zスコア）：平均0、分散1にスケーリング\u001b[39;00m\n\u001b[0;32m----> 2\u001b[0m adata\u001b[38;5;241m.\u001b[39mlayers[\u001b[38;5;124m\"\u001b[39m\u001b[38;5;124mzscore\u001b[39m\u001b[38;5;124m\"\u001b[39m] \u001b[38;5;241m=\u001b[39m (\u001b[43madata\u001b[49m\u001b[38;5;241;43m.\u001b[39;49m\u001b[43mX\u001b[49m\u001b[43m \u001b[49m\u001b[38;5;241;43m-\u001b[39;49m\u001b[43m \u001b[49m\u001b[43madata\u001b[49m\u001b[38;5;241;43m.\u001b[39;49m\u001b[43mX\u001b[49m\u001b[38;5;241;43m.\u001b[39;49m\u001b[43mmean\u001b[49m\u001b[43m(\u001b[49m\u001b[43m)\u001b[49m) \u001b[38;5;241m/\u001b[39m adata\u001b[38;5;241m.\u001b[39mX\u001b[38;5;241m.\u001b[39mstd()\n\u001b[1;32m      4\u001b[0m \u001b[38;5;66;03m# どんなレイヤーがあるか確認\u001b[39;00m\n\u001b[1;32m      5\u001b[0m adata\u001b[38;5;241m.\u001b[39mlayers\n",
      "File \u001b[0;32m~/.pyenv/versions/3.10.13/lib/python3.10/site-packages/scipy/sparse/_base.py:573\u001b[0m, in \u001b[0;36m_spbase.__sub__\u001b[0;34m(self, other)\u001b[0m\n\u001b[1;32m    571\u001b[0m     \u001b[38;5;28;01mif\u001b[39;00m other \u001b[38;5;241m==\u001b[39m \u001b[38;5;241m0\u001b[39m:\n\u001b[1;32m    572\u001b[0m         \u001b[38;5;28;01mreturn\u001b[39;00m \u001b[38;5;28mself\u001b[39m\u001b[38;5;241m.\u001b[39mcopy()\n\u001b[0;32m--> 573\u001b[0m     \u001b[38;5;28;01mraise\u001b[39;00m \u001b[38;5;167;01mNotImplementedError\u001b[39;00m(\u001b[38;5;124m'\u001b[39m\u001b[38;5;124msubtracting a nonzero scalar from a \u001b[39m\u001b[38;5;124m'\u001b[39m\n\u001b[1;32m    574\u001b[0m                               \u001b[38;5;124m'\u001b[39m\u001b[38;5;124msparse array is not supported\u001b[39m\u001b[38;5;124m'\u001b[39m)\n\u001b[1;32m    575\u001b[0m \u001b[38;5;28;01melif\u001b[39;00m issparse(other):\n\u001b[1;32m    576\u001b[0m     \u001b[38;5;28;01mif\u001b[39;00m other\u001b[38;5;241m.\u001b[39mshape \u001b[38;5;241m!=\u001b[39m \u001b[38;5;28mself\u001b[39m\u001b[38;5;241m.\u001b[39mshape:\n",
      "\u001b[0;31mNotImplementedError\u001b[0m: subtracting a nonzero scalar from a sparse array is not supported"
     ]
    }
   ],
   "source": [
    "# 正規化（Zスコア）：平均0、分散1にスケーリング\n",
    "adata.layers[\"zscore\"] = (adata.X - adata.X.mean()) / adata.X.std()\n",
    "\n",
    "# どんなレイヤーがあるか確認\n",
    "adata.layers\n"
   ]
  }
 ],
 "metadata": {
  "kernelspec": {
   "display_name": "Python 3",
   "language": "python",
   "name": "python3"
  },
  "language_info": {
   "codemirror_mode": {
    "name": "ipython",
    "version": 3
   },
   "file_extension": ".py",
   "mimetype": "text/x-python",
   "name": "python",
   "nbconvert_exporter": "python",
   "pygments_lexer": "ipython3",
   "version": "3.10.13"
  }
 },
 "nbformat": 4,
 "nbformat_minor": 5
}
